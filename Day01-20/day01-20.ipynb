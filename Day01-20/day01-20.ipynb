{
 "cells": [
  {
   "cell_type": "markdown",
   "metadata": {},
   "source": [
    "## 常用数据结构之列表-1"
   ]
  },
  {
   "cell_type": "markdown",
   "metadata": {},
   "source": [
    "1. 将一颗色子掷 6000 次，统计每种点数出现的次数。"
   ]
  },
  {
   "cell_type": "code",
   "execution_count": 11,
   "metadata": {},
   "outputs": [
    {
     "name": "stdout",
     "output_type": "stream",
     "text": [
      "[1002, 1045, 1035, 991, 962, 965]\n"
     ]
    }
   ],
   "source": [
    "import random\n",
    "\n",
    "counts = [0] * 6\n",
    "for i in range(6000):\n",
    "    face = random.randint(1, 6)\n",
    "    counts[face - 1] += 1\n",
    "print(counts)"
   ]
  },
  {
   "cell_type": "markdown",
   "metadata": {},
   "source": [
    "2. 数值格式化\n",
    "```格式化规范迷你语言 (Format Specification Mini-Language)\n",
    "其通用形式（在 f-string 和 str.format() 中）如下：\n",
    ":[[fill]align][sign][#][0][width][grouping_option][.precision][type]\n",
    "\n",
    ":: 分隔符，表示格式化规范的开始。\n",
    "fill (可选): 填充字符，如果指定了 align 但未指定 fill，则默认为空格。\n",
    "align (可选): 对齐方式：\n",
    "<: 左对齐 (默认)\n",
    ">: 右对齐\n",
    "^: 居中对齐\n",
    "=: (仅对数字有效) 符号放在填充字符之后，数字本身右对齐。例如 +000120。\n",
    "sign (可选): 符号显示：\n",
    "+: 正数前显示 +，负数前显示 -。\n",
    "-: 仅负数前显示 - (默认)。\n",
    " (空格): 正数前显示一个空格，负数前显示 -。\n",
    "# (可选): \"替代形式\"，对于不同类型有不同含义：\n",
    "对于整数，与 b (二进制), o (八进制), x (十六进制) 结合使用时，会添加前缀 0b, 0o, 0x。\n",
    "0 (可选): 如果指定，则在宽度前面补零而不是空格（等效于 fill='0' 和 align='='）。\n",
    "width (可选): 最小总字段宽度。如果值的字符串形式比 width 短，则根据 align 和 fill 进行填充。\n",
    "grouping_option (可选):\n",
    ",: 使用逗号作为千位分隔符。\n",
    "_: 使用下划线作为千位分隔符 (Python 3.6+)。\n",
    ".precision (可选): 精度。\n",
    "对于浮点数 (f, F, e, E, g, G, %): 表示小数点后的位数。\n",
    "对于整数 (d, b, o, x, X): 不能与整数一起使用（会导致 ValueError）。\n",
    "对于 g, G: 表示有效数字的总位数。\n",
    "type (可选): 数值类型转换：\n",
    "整数类型:\n",
    "d: 十进制整数 (默认)。\n",
    "b: 二进制。\n",
    "o: 八进制。\n",
    "x: 十六进制 (小写字母)。\n",
    "X: 十六进制 (大写字母)。\n",
    "c: 字符 (将整数转换为对应的 Unicode 字符)。\n",
    "n: 数字。与 d 类似，但会使用当前区域设置的分隔符。\n",
    "浮点数类型:\n",
    "f 或 F: 定点表示法 (默认精度 6)。\n",
    "e 或 E: 科学计数法 (指数用 e 或 E)。\n",
    "g 或 G: 通用格式。对于给定精度 p >= 1，它会舍入到 p 位有效数字，然后根据数值大小在定点和科学计数法之间选择。\n",
    "%: 百分比。数值乘以 100，然后使用 f 格式显示，并附加一个 %。\n",
    "n: 数字。与 g 类似，但会使用当前区域设置的分隔符。\n",
    "```"
   ]
  },
  {
   "cell_type": "code",
   "execution_count": 34,
   "metadata": {},
   "outputs": [
    {
     "name": "stdout",
     "output_type": "stream",
     "text": [
      "Pi (2 decimal places): 3.14\n",
      "Pi (width 10, right align, 3 dp):      3.142\n",
      "Integer (zero padding, width 8): 00000042\n",
      "Positive with sign: +42\n",
      "Negative with sign: -10\n",
      "Positive with space:  42\n",
      "Negative with space: -10\n",
      "Large number with comma: 1,234,567.89\n",
      "Large number with underscore: 1_234_567.89\n",
      "Ratio as percentage (1 decimal): 75.8%\n",
      "Small number (scientific, 3 precision): 1.235e-07\n",
      "Large number (scientific, 3 precision): 1.235E+06\n",
      "Integer as binary: 101010\n",
      "Integer as octal: 52\n",
      "Integer as hex (lower): 2a\n",
      "Integer as hex (upper): 2A\n",
      "Integer as binary with prefix: 0b101010\n",
      "Integer as hex with prefix: 0x2a\n"
     ]
    }
   ],
   "source": [
    "\n",
    "pi = 3.1415926535\n",
    "large_number = 1234567.89\n",
    "integer_val = 42\n",
    "negative_val = -10\n",
    "\n",
    "# 基本浮点数格式化 (保留2位小数)\n",
    "print(f\"Pi (2 decimal places): {pi:.2f}\") # 输出: Pi (2 decimal places): 3.14\n",
    "\n",
    "# 指定宽度和对齐 (总宽度10, 右对齐, 保留3位小数)\n",
    "print(f\"Pi (width 10, right align, 3 dp): {pi:>10.3f}\") # 输出: Pi (width 10, right align, 3 dp):      3.142\n",
    "\n",
    "# 零填充 (总宽度8, 整数)\n",
    "print(f\"Integer (zero padding, width 8): {integer_val:08d}\") # 输出: Integer (zero padding, width 8): 00000042\n",
    "\n",
    "# 符号显示\n",
    "print(f\"Positive with sign: {integer_val:+d}\") # 输出: Positive with sign: +42\n",
    "print(f\"Negative with sign: {negative_val:+d}\") # 输出: Negative with sign: -10\n",
    "print(f\"Positive with space: {integer_val: d}\") # 输出: Positive with space:  42\n",
    "print(f\"Negative with space: {negative_val: d}\") # 输出: Negative with space: -10\n",
    "\n",
    "# 千位分隔符\n",
    "print(f\"Large number with comma: {large_number:,.2f}\") # 输出: Large number with comma: 1,234,567.89\n",
    "print(f\"Large number with underscore: {large_number:_.2f}\") # 输出: Large number with underscore: 1_234_567.89\n",
    "\n",
    "# 百分比\n",
    "ratio = 0.758\n",
    "print(f\"Ratio as percentage (1 decimal): {ratio:.1%}\") # 输出: Ratio as percentage (1 decimal): 75.8%\n",
    "\n",
    "# 科学计数法\n",
    "small_number = 0.00000012345\n",
    "print(f\"Small number (scientific, 3 precision): {small_number:.3e}\") # 输出: Small number (scientific, 3 precision): 1.235e-07\n",
    "print(f\"Large number (scientific, 3 precision): {large_number:.3E}\") # 输出: Large number (scientific, 3 precision): 1.235E+06\n",
    "\n",
    "# 不同进制\n",
    "print(f\"Integer as binary: {integer_val:b}\")     # 输出: Integer as binary: 101010\n",
    "print(f\"Integer as octal: {integer_val:o}\")      # 输出: Integer as octal: 52\n",
    "print(f\"Integer as hex (lower): {integer_val:x}\")  # 输出: Integer as hex (lower): 2a\n",
    "print(f\"Integer as hex (upper): {integer_val:X}\")  # 输出: Integer as hex (upper): 2A\n",
    "\n",
    "# 带前缀的进制\n",
    "print(f\"Integer as binary with prefix: {integer_val:#b}\") # 输出: Integer as binary with prefix: 0b101010\n",
    "print(f\"Integer as hex with prefix: {integer_val:#x}\")   # 输出: Integer as hex with prefix: 0x2a"
   ]
  },
  {
   "cell_type": "markdown",
   "metadata": {},
   "source": [
    "## 函数应用实战"
   ]
  },
  {
   "cell_type": "markdown",
   "metadata": {},
   "source": [
    "### 例子1：随机验证码\n",
    "\n",
    "设计一个生成随机验证码的函数，验证码由数字和英文大小写字母构成，长度可以通过参数设置。\n"
   ]
  },
  {
   "cell_type": "code",
   "execution_count": 19,
   "metadata": {},
   "outputs": [
    {
     "name": "stdout",
     "output_type": "stream",
     "text": [
      "1zMuy6\n"
     ]
    }
   ],
   "source": [
    "import random\n",
    "import string\n",
    "\n",
    "ALL_CHARS = string.ascii_letters + string.digits\n",
    "\n",
    "def generate_code(code_len=6):\n",
    "    return \"\".join(random.choices(ALL_CHARS, k=code_len))\n",
    "\n",
    "\n",
    "print(generate_code())"
   ]
  },
  {
   "cell_type": "markdown",
   "metadata": {},
   "source": [
    "### 例子2：判断素数\n",
    "\n",
    "设计一个判断给定的大于1的正整数是不是质数的函数。质数是只能被1和自身整除的正整数（大于1），如果一个大于 1 的正整数 $\\small{N}$ 是质数，那就意味着在 2 到 $\\small{N-1}$ 之间都没有它的因子。\n"
   ]
  },
  {
   "cell_type": "code",
   "execution_count": 23,
   "metadata": {},
   "outputs": [
    {
     "name": "stdout",
     "output_type": "stream",
     "text": [
      "False\n"
     ]
    }
   ],
   "source": [
    "\n",
    "def is_prime(num):\n",
    "    for i in range(2, num):\n",
    "        if num % i == 0:\n",
    "            return False\n",
    "    return True\n",
    "\n",
    "print(is_prime(4))"
   ]
  },
  {
   "cell_type": "markdown",
   "metadata": {},
   "source": [
    "### 例子3：最大公约数和最小公倍数\n",
    "\n",
    "设计计算两个正整数最大公约数和最小公倍数的函数。 $\\small{x}$ 和 $\\small{y}$ 的最大公约数是能够同时整除 $\\small{x}$ 和 $\\small{y}$ 的最大整数，如果 $\\small{x}$ 和 $\\small{y}$ 互质，那么它们的最大公约数为 1； $\\small{x}$ 和 $\\small{y}$ 的最小公倍数是能够同时被 $\\small{x}$ 和 $\\small{y}$ 整除的最小正整数，如果 $\\small{x}$ 和 $\\small{y}$ 互质，那么它们的最小公倍数为 $\\small{x \\times y}$ 。需要提醒大家注意的是，计算最大公约数和最小公倍数是两个不同的功能，应该设计成两个函数，而不是把两个功能放到同一个函数中。\n"
   ]
  },
  {
   "cell_type": "code",
   "execution_count": 25,
   "metadata": {},
   "outputs": [
    {
     "name": "stdout",
     "output_type": "stream",
     "text": [
      "36\n",
      "6\n"
     ]
    }
   ],
   "source": [
    "def lcm(x: int, y: int) -> int:\n",
    "    return x * y // gcd(x, y)   \n",
    "\n",
    "def gcd(x: int, y: int) -> int:\n",
    "    if x > y:\n",
    "        x, y = y, x\n",
    "    for factor in range(x, 0, -1):\n",
    "        if x % factor == 0 and y % factor == 0:\n",
    "            return factor\n",
    "    return 1\n",
    "\n",
    "print(lcm(12, 18))\n",
    "print(gcd(12, 18))"
   ]
  },
  {
   "cell_type": "markdown",
   "metadata": {},
   "source": [
    "### 例子4：数据统计\n",
    "\n",
    "假设样本数据保存一个列表中，设计计算样本数据描述性统计信息的函数。描述性统计信息通常包括：算术平均值、中位数、极差（最大值和最小值的差）、方差、标准差、变异系数等，计算公式如下所示。\n",
    "\n",
    "样本均值（sample mean）：\n",
    "\n",
    "$$\n",
    "\\bar{x} = \\frac{\\sum_{i=1}^{n}x_{i}}{n} = \\frac{x_{1}+x_{2}+\\cdots +x_{n}}{n}\n",
    "$$\n",
    "\n",
    "样本方差（sample variance）：\n",
    "\n",
    "$$\n",
    "s^2 = \\frac {\\sum_{i=1}^{n}(x_i - \\bar{x})^2} {n-1}\n",
    "$$\n",
    "\n",
    "样本标准差（sample standard deviation）：\n",
    "\n",
    "$$\n",
    "s = \\sqrt{\\frac{\\sum_{i=1}^{n}(x_i - \\bar{x})^2}{n-1}}\n",
    "$$\n",
    "\n",
    "变异系数（coefficient of sample variation）：\n",
    "\n",
    "$$\n",
    "CV = \\frac{s}{\\bar{x}}\n",
    "$$"
   ]
  },
  {
   "cell_type": "code",
   "execution_count": 28,
   "metadata": {},
   "outputs": [
    {
     "name": "stdout",
     "output_type": "stream",
     "text": [
      "均值: 3.0\n",
      "中位数: 3\n",
      "极差: 4\n",
      "方差: 2.5\n",
      "标准差: 1.5811388300841898\n",
      "变异系数: 0.5270462766947299\n"
     ]
    }
   ],
   "source": [
    "def mean(data: list[int]) -> float:\n",
    "    return sum(data) / len(data)\n",
    "\n",
    "def median(data: list[int]) -> float:\n",
    "    data.sort()\n",
    "    if len(data) % 2 == 0:\n",
    "        return (data[len(data) // 2 - 1] + data[len(data) // 2]) / 2\n",
    "    else:\n",
    "        return data[len(data) // 2]\n",
    "\n",
    "def ptp(data: list[int]) -> float:\n",
    "    return max(data) - min(data)\n",
    "\n",
    "def var(data: list[int]) -> float:\n",
    "    mean_data = mean(data)\n",
    "    return sum((x - mean_data) ** 2 for x in data) / (len(data) - 1)\n",
    "\n",
    "def std(data: list[int]) -> float:\n",
    "    return var(data) ** 0.5\n",
    "\n",
    "def cv(data: list[int]) -> float:\n",
    "    return std(data) / mean(data)\n",
    "\n",
    "\n",
    "def describe(data):\n",
    "    \"\"\"输出描述性统计信息\"\"\"\n",
    "    print(f'均值: {mean(data)}')\n",
    "    print(f'中位数: {median(data)}')\n",
    "    print(f'极差: {ptp(data)}')\n",
    "    print(f'方差: {var(data)}')\n",
    "    print(f'标准差: {std(data)}')\n",
    "    print(f'变异系数: {cv(data)}')\n",
    "\n",
    "\n",
    "describe([1, 2, 3, 4, 5])"
   ]
  },
  {
   "cell_type": "markdown",
   "metadata": {},
   "source": [
    "## 函数使用进阶\n",
    "### 高阶函数\n",
    "\n",
    "我们回到之前讲过的一个例子，设计一个函数，传入任意多个参数，对其中`int`类型或`float`类型的元素实现求和操作。我们对之前的代码稍作调整，让整个代码更加紧凑一些，如下所示。\n"
   ]
  },
  {
   "cell_type": "code",
   "execution_count": 30,
   "metadata": {},
   "outputs": [
    {
     "name": "stdout",
     "output_type": "stream",
     "text": [
      "15\n",
      "11.0\n"
     ]
    }
   ],
   "source": [
    "def add(*args):\n",
    "    total = 0\n",
    "    for val in args:\n",
    "        if isinstance(val, int) or isinstance(val, float):\n",
    "            total += val\n",
    "    return total\n",
    "\n",
    "print(add(1, 2, 3, 4, 5))\n",
    "print(add(1, 2, 3, \"4\", 5.0))"
   ]
  },
  {
   "cell_type": "code",
   "execution_count": 32,
   "metadata": {},
   "outputs": [
    {
     "name": "stdout",
     "output_type": "stream",
     "text": [
      "13\n",
      "15.0\n"
     ]
    }
   ],
   "source": [
    "def add(x, y):\n",
    "    return x + y\n",
    "\n",
    "def mul(x, y):\n",
    "    return x * y\n",
    "\n",
    "\n",
    "def calc(init_value, func, *args):\n",
    "    result = init_value\n",
    "    for val in args:\n",
    "        if isinstance(val, int) or isinstance(val, float):\n",
    "            result = func(result, val)\n",
    "    return result\n",
    "\n",
    "print(calc(1, add, 3, 4, 5))\n",
    "print(calc(1, mul, 3, \"4\", 5.0))"
   ]
  },
  {
   "cell_type": "markdown",
   "metadata": {},
   "source": [
    "### Lambda函数"
   ]
  },
  {
   "cell_type": "code",
   "execution_count": 33,
   "metadata": {},
   "outputs": [
    {
     "name": "stdout",
     "output_type": "stream",
     "text": [
      "[144, 64, 3600, 2704]\n"
     ]
    }
   ],
   "source": [
    "old_nums = [35, 12, 8, 99, 60, 52]\n",
    "new_nums = list(map(lambda x: x ** 2, filter(lambda x: x % 2 == 0, old_nums)))\n",
    "print(new_nums)  # [144, 64, 3600, 2704]"
   ]
  },
  {
   "cell_type": "markdown",
   "metadata": {},
   "source": [
    "### 偏函数\n",
    "\n",
    "偏函数是指固定函数的某些参数，生成一个新的函数，这样就无需在每次调用函数时都传递相同的参数。在 Python 语言中，我们可以使用`functools`模块的`partial`函数来创建偏函数。例如，`int`函数在默认情况下可以将字符串视为十进制整数进行类型转换，如果我们修改它的`base`参数，就可以定义出三个新函数，分别用于将二进制、八进制、十六进制字符串转换为整数，代码如下所示。\n"
   ]
  },
  {
   "cell_type": "code",
   "execution_count": null,
   "metadata": {},
   "outputs": [],
   "source": [
    "import functools\n",
    "\n",
    "int2 = functools.partial(int, base=2)\n",
    "int8 = functools.partial(int, base=8)\n",
    "int16 = functools.partial(int, base=16)\n",
    "\n",
    "print(int('1001'))    # 1001\n",
    "\n",
    "print(int2('1001'))   # 9\n",
    "print(int8('1001'))   # 513\n",
    "print(int16('1001'))  # 4097"
   ]
  },
  {
   "cell_type": "markdown",
   "metadata": {},
   "source": [
    "## 函数高级应用\n",
    "### 装饰器\n",
    "\n",
    "Python 语言中，装饰器是“**用一个函数装饰另外一个函数并为其提供额外的能力**”的语法现象。装饰器本身是一个函数，它的参数是被装饰的函数，它的返回值是一个带有装饰功能的函数。通过前面的描述，相信大家已经听出来了，装饰器是一个高阶函数，它的参数和返回值都是函数。但是，装饰器的概念对编程语言的初学者来说，还是让人头疼的，下面我们先通过一个简单的例子来说明装饰器的作用。假设有名为`downlaod`和`upload`的两个函数，分别用于文件的上传和下载，如下所示。\n"
   ]
  },
  {
   "cell_type": "code",
   "execution_count": 1,
   "metadata": {},
   "outputs": [
    {
     "name": "stdout",
     "output_type": "stream",
     "text": [
      "开始下载MySQL从删库到跑路.avi.\n",
      "MySQL从删库到跑路.avi下载完成.\n",
      "开始上传Python从入门到住院.pdf.\n",
      "Python从入门到住院.pdf上传完成.\n"
     ]
    }
   ],
   "source": [
    "import random\n",
    "import time\n",
    "\n",
    "\n",
    "def download(filename):\n",
    "    \"\"\"下载文件\"\"\"\n",
    "    print(f'开始下载{filename}.')\n",
    "    time.sleep(random.random() * 6)\n",
    "    print(f'{filename}下载完成.')\n",
    "\n",
    "    \n",
    "def upload(filename):\n",
    "    \"\"\"上传文件\"\"\"\n",
    "    print(f'开始上传{filename}.')\n",
    "    time.sleep(random.random() * 8)\n",
    "    print(f'{filename}上传完成.')\n",
    "\n",
    "    \n",
    "download('MySQL从删库到跑路.avi')\n",
    "upload('Python从入门到住院.pdf')"
   ]
  },
  {
   "cell_type": "markdown",
   "metadata": {},
   "source": [
    "加装饰器"
   ]
  },
  {
   "cell_type": "code",
   "execution_count": 11,
   "metadata": {},
   "outputs": [
    {
     "name": "stdout",
     "output_type": "stream",
     "text": [
      "开始下载MySQL从删库到跑路.avi.\n",
      "MySQL从删库到跑路.avi下载完成.\n",
      "download执行时间: 1.01秒\n",
      "wrapper11执行时间: 1.01秒\n",
      "wrapper执行时间: 1.01秒\n",
      "开始上传Python从入门到住院.pdf.\n",
      "Python从入门到住院.pdf上传完成.\n",
      "upload执行时间: 5.56秒\n",
      "wrapper11执行时间: 5.56秒\n",
      "wrapper执行时间: 5.56秒\n"
     ]
    }
   ],
   "source": [
    "import time\n",
    "\n",
    "\n",
    "def record_time(func):\n",
    "\n",
    "    def wrapper(*args, **kwargs):\n",
    "        # 在执行被装饰的函数之前记录开始时间\n",
    "        start = time.time()\n",
    "        # 执行被装饰的函数并获取返回值\n",
    "        result = func(*args, **kwargs)\n",
    "        # 在执行被装饰的函数之后记录结束时间\n",
    "        end = time.time()\n",
    "        # 计算和显示被装饰函数的执行时间\n",
    "        print(f'{func.__name__}执行时间: {end - start:.2f}秒')\n",
    "        # 返回被装饰函数的返回值\n",
    "        return result\n",
    "    \n",
    "    return wrapper\n",
    "\n",
    "download = record_time(download)\n",
    "upload = record_time(upload)\n",
    "download('MySQL从删库到跑路.avi')\n",
    "upload('Python从入门到住院.pdf')"
   ]
  },
  {
   "cell_type": "markdown",
   "metadata": {},
   "source": [
    "可以用`@装饰器函数`将装饰器函数直接放在被装饰的函数上，效果跟上面的代码相同。我们把完整的代码为大家罗列出来，大家可以再看看我们是如何定义和使用装饰器的。\n"
   ]
  },
  {
   "cell_type": "code",
   "execution_count": null,
   "metadata": {},
   "outputs": [
    {
     "name": "stdout",
     "output_type": "stream",
     "text": [
      "开始下载MySQL从删库到跑路.avi.\n",
      "MySQL从删库到跑路.avi下载完成.\n",
      "download执行时间: 0.69秒\n",
      "开始上传Python从入门到住院.pdf.\n",
      "Python从入门到住院.pdf上传完成.\n",
      "upload执行时间: 5.72秒\n"
     ]
    }
   ],
   "source": [
    "import random\n",
    "import time\n",
    "\n",
    "\n",
    "def record_time(func):\n",
    "\n",
    "    def wrapper(*args, **kwargs):\n",
    "        start = time.time()\n",
    "        result = func(*args, **kwargs)\n",
    "        end = time.time()\n",
    "        print(f'{func.__name__}执行时间: {end - start:.2f}秒')\n",
    "        return result\n",
    "\n",
    "    return wrapper\n",
    "\n",
    "\n",
    "@record_time\n",
    "def download(filename):\n",
    "    print(f'开始下载{filename}.')\n",
    "    time.sleep(random.random() * 6)\n",
    "    print(f'{filename}下载完成.')\n",
    "\n",
    "\n",
    "@record_time\n",
    "def upload(filename):\n",
    "    print(f'开始上传{filename}.')\n",
    "    time.sleep(random.random() * 8)\n",
    "    print(f'{filename}上传完成.')\n",
    "\n",
    "\n",
    "download('MySQL从删库到跑路.avi')\n",
    "upload('Python从入门到住院.pdf')"
   ]
  },
  {
   "cell_type": "markdown",
   "metadata": {},
   "source": [
    "如果在代码的某些地方，我们想去掉装饰器的作用执行原函数，那么在定义装饰器函数的时候，需要做一点点额外的工作。Python 标准库functools模块的wraps函数也是一个装饰器，我们将它放在wrapper函数上，这个装饰器可以帮我们保留被装饰之前的函数，这样在需要取消装饰器时，可以通过被装饰函数的__wrapped__属性获得被装饰之前的函数。"
   ]
  },
  {
   "cell_type": "code",
   "execution_count": 12,
   "metadata": {},
   "outputs": [
    {
     "name": "stdout",
     "output_type": "stream",
     "text": [
      "开始下载MySQL从删库到跑路.avi.\n",
      "MySQL从删库到跑路.avi下载完成.\n",
      "download执行时间: 3.51秒\n",
      "开始上传Python从入门到住院.pdf.\n",
      "Python从入门到住院.pdf上传完成.\n",
      "upload执行时间: 6.63秒\n",
      "开始下载MySQL必知必会.pdf.\n",
      "MySQL必知必会.pdf下载完成.\n",
      "开始上传Python从新手到大师.pdf.\n",
      "Python从新手到大师.pdf上传完成.\n"
     ]
    }
   ],
   "source": [
    "import random\n",
    "import time\n",
    "\n",
    "from functools import wraps\n",
    "\n",
    "\n",
    "def record_time(func):\n",
    "\n",
    "    @wraps(func)\n",
    "    def wrapper(*args, **kwargs):\n",
    "        start = time.time()\n",
    "        result = func(*args, **kwargs)\n",
    "        end = time.time()\n",
    "        print(f'{func.__name__}执行时间: {end - start:.2f}秒')\n",
    "        return result\n",
    "\n",
    "    return wrapper\n",
    "\n",
    "\n",
    "@record_time\n",
    "def download(filename):\n",
    "    print(f'开始下载{filename}.')\n",
    "    time.sleep(random.random() * 6)\n",
    "    print(f'{filename}下载完成.')\n",
    "\n",
    "\n",
    "@record_time\n",
    "def upload(filename):\n",
    "    print(f'开始上传{filename}.')\n",
    "    time.sleep(random.random() * 8)\n",
    "    print(f'{filename}上传完成.')\n",
    "\n",
    "\n",
    "# 调用装饰后的函数会记录执行时间\n",
    "download('MySQL从删库到跑路.avi')\n",
    "upload('Python从入门到住院.pdf')\n",
    "# 取消装饰器的作用不记录执行时间\n",
    "download.__wrapped__('MySQL必知必会.pdf')\n",
    "upload.__wrapped__('Python从新手到大师.pdf')"
   ]
  },
  {
   "cell_type": "markdown",
   "metadata": {},
   "source": [
    "### 递归调用\n",
    "\n",
    "Python 中允许函数嵌套定义，也允许函数之间相互调用，而且一个函数还可以直接或间接的调用自身。函数自己调用自己称为递归调用，那么递归调用有什么用处呢？现实中，有很多问题的定义本身就是一个递归定义，例如我们之前讲到的阶乘，非负整数`N`的阶乘是`N`乘以`N-1`的阶乘，即 $\\small{N! = N \\times (N-1)!}$ ，定义的左边和右边都出现了阶乘的概念，所以这是一个递归定义。既然如此，我们可以使用递归调用的方式来写一个求阶乘的函数，代码如下所示。\n"
   ]
  },
  {
   "cell_type": "code",
   "execution_count": 15,
   "metadata": {},
   "outputs": [
    {
     "name": "stdout",
     "output_type": "stream",
     "text": [
      "120\n"
     ]
    }
   ],
   "source": [
    "def fac(num):\n",
    "    if num in (0, 1):\n",
    "        return 1\n",
    "    return num * fac(num - 1)\n",
    "\n",
    "print(fac(5))"
   ]
  },
  {
   "cell_type": "markdown",
   "metadata": {},
   "source": [
    "## 面向对象"
   ]
  },
  {
   "cell_type": "code",
   "execution_count": 16,
   "metadata": {},
   "outputs": [
    {
     "name": "stdout",
     "output_type": "stream",
     "text": [
      "23:59:58\n",
      "23:59:59\n",
      "00:00:00\n",
      "00:00:01\n",
      "00:00:02\n",
      "00:00:03\n",
      "00:00:04\n",
      "00:00:05\n",
      "00:00:06\n",
      "00:00:07\n",
      "00:00:08\n",
      "00:00:09\n",
      "00:00:10\n",
      "00:00:11\n",
      "00:00:12\n",
      "00:00:13\n"
     ]
    },
    {
     "ename": "KeyboardInterrupt",
     "evalue": "",
     "output_type": "error",
     "traceback": [
      "\u001b[31m---------------------------------------------------------------------------\u001b[39m",
      "\u001b[31mKeyboardInterrupt\u001b[39m                         Traceback (most recent call last)",
      "\u001b[36mCell\u001b[39m\u001b[36m \u001b[39m\u001b[32mIn[16]\u001b[39m\u001b[32m, line 41\u001b[39m\n\u001b[32m     39\u001b[39m \u001b[38;5;28mprint\u001b[39m(clock.show())\n\u001b[32m     40\u001b[39m \u001b[38;5;66;03m# 休眠1秒钟\u001b[39;00m\n\u001b[32m---> \u001b[39m\u001b[32m41\u001b[39m time.sleep(\u001b[32m1\u001b[39m)\n\u001b[32m     42\u001b[39m \u001b[38;5;66;03m# 给时钟对象发消息使其走字\u001b[39;00m\n\u001b[32m     43\u001b[39m clock.run()\n",
      "\u001b[31mKeyboardInterrupt\u001b[39m: "
     ]
    }
   ],
   "source": [
    "import time\n",
    "\n",
    "\n",
    "# 定义时钟类\n",
    "class Clock:\n",
    "    \"\"\"数字时钟\"\"\"\n",
    "\n",
    "    def __init__(self, hour=0, minute=0, second=0):\n",
    "        \"\"\"初始化方法\n",
    "        :param hour: 时\n",
    "        :param minute: 分\n",
    "        :param second: 秒\n",
    "        \"\"\"\n",
    "        self.hour = hour\n",
    "        self.min = minute\n",
    "        self.sec = second\n",
    "\n",
    "    def run(self):\n",
    "        \"\"\"走字\"\"\"\n",
    "        self.sec += 1\n",
    "        if self.sec == 60:\n",
    "            self.sec = 0\n",
    "            self.min += 1\n",
    "            if self.min == 60:\n",
    "                self.min = 0\n",
    "                self.hour += 1\n",
    "                if self.hour == 24:\n",
    "                    self.hour = 0\n",
    "\n",
    "    def show(self):\n",
    "        \"\"\"显示时间\"\"\"\n",
    "        return f'{self.hour:0>2d}:{self.min:0>2d}:{self.sec:0>2d}'\n",
    "\n",
    "\n",
    "# 创建时钟对象\n",
    "clock = Clock(23, 59, 58)\n",
    "while True:\n",
    "    # 给时钟对象发消息读取时间\n",
    "    print(clock.show())\n",
    "    # 休眠1秒钟\n",
    "    time.sleep(1)\n",
    "    # 给时钟对象发消息使其走字\n",
    "    clock.run()"
   ]
  },
  {
   "cell_type": "markdown",
   "metadata": {},
   "source": [
    "可以直接使用类名.方法名的方式来调用静态方法和类方法，二者的区别在于，类方法的第一个参数是类对象本身，而静态方法则没有这个参数。简单的总结一下，对象方法、类方法、静态方法都可以通过“类名.方法名”的方式来调用，区别在于方法的第一个参数到底是普通对象还是类对象，还是没有接受消息的对象。静态方法通常也可以直接写成一个独立的函数，因为它并没有跟特定的对象绑定。\n",
    "\n",
    "这里做一个补充说明，我们可以给上面计算三角形周长和面积的方法添加一个property装饰器（Python 内置类型），这样三角形类的perimeter和area就变成了两个属性，不再通过调用方法的方式来访问，而是用对象访问属性的方式直接获得，修改后的代码如下所示。"
   ]
  },
  {
   "cell_type": "code",
   "execution_count": null,
   "metadata": {},
   "outputs": [],
   "source": [
    "class Triangle(object):\n",
    "    \"\"\"三角形\"\"\"\n",
    "\n",
    "    def __init__(self, a, b, c):\n",
    "        \"\"\"初始化方法\"\"\"\n",
    "        self.a = a\n",
    "        self.b = b\n",
    "        self.c = c\n",
    "\n",
    "    @staticmethod\n",
    "    def is_valid(a, b, c):\n",
    "        \"\"\"判断三条边长能否构成三角形(静态方法)\"\"\"\n",
    "        return a + b > c and b + c > a and a + c > b\n",
    "\n",
    "    @property\n",
    "    def perimeter(self):\n",
    "        \"\"\"计算周长\"\"\"\n",
    "        return self.a + self.b + self.c\n",
    "\n",
    "    @property\n",
    "    def area(self):\n",
    "        \"\"\"计算面积\"\"\"\n",
    "        p = self.perimeter / 2\n",
    "        return (p * (p - self.a) * (p - self.b) * (p - self.c)) ** 0.5\n",
    "\n",
    "\n",
    "t = Triangle(3, 4, 5)\n",
    "print(f'周长: {t.perimeter}')\n",
    "print(f'面积: {t.area}')"
   ]
  }
 ],
 "metadata": {
  "kernelspec": {
   "display_name": "Python-100-Days",
   "language": "python",
   "name": "python3"
  },
  "language_info": {
   "codemirror_mode": {
    "name": "ipython",
    "version": 3
   },
   "file_extension": ".py",
   "mimetype": "text/x-python",
   "name": "python",
   "nbconvert_exporter": "python",
   "pygments_lexer": "ipython3",
   "version": "3.11.10"
  }
 },
 "nbformat": 4,
 "nbformat_minor": 2
}
