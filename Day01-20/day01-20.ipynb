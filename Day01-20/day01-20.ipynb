{
 "cells": [
  {
   "cell_type": "markdown",
   "metadata": {},
   "source": [
    "## 常用数据结构之列表-1"
   ]
  },
  {
   "cell_type": "markdown",
   "metadata": {},
   "source": [
    "1. 将一颗色子掷 6000 次，统计每种点数出现的次数。"
   ]
  },
  {
   "cell_type": "code",
   "execution_count": 11,
   "metadata": {},
   "outputs": [
    {
     "name": "stdout",
     "output_type": "stream",
     "text": [
      "[1002, 1045, 1035, 991, 962, 965]\n"
     ]
    }
   ],
   "source": [
    "import random\n",
    "\n",
    "counts = [0] * 6\n",
    "for i in range(6000):\n",
    "    face = random.randint(1, 6)\n",
    "    counts[face - 1] += 1\n",
    "print(counts)"
   ]
  },
  {
   "cell_type": "markdown",
   "metadata": {},
   "source": [
    "## 函数应用实战"
   ]
  },
  {
   "cell_type": "markdown",
   "metadata": {},
   "source": [
    "### 例子1：随机验证码\n",
    "\n",
    "设计一个生成随机验证码的函数，验证码由数字和英文大小写字母构成，长度可以通过参数设置。\n"
   ]
  },
  {
   "cell_type": "code",
   "execution_count": 19,
   "metadata": {},
   "outputs": [
    {
     "name": "stdout",
     "output_type": "stream",
     "text": [
      "1zMuy6\n"
     ]
    }
   ],
   "source": [
    "import random\n",
    "import string\n",
    "\n",
    "ALL_CHARS = string.ascii_letters + string.digits\n",
    "\n",
    "def generate_code(code_len=6):\n",
    "    return \"\".join(random.choices(ALL_CHARS, k=code_len))\n",
    "\n",
    "\n",
    "print(generate_code())"
   ]
  },
  {
   "cell_type": "markdown",
   "metadata": {},
   "source": [
    "### 例子2：判断素数\n",
    "\n",
    "设计一个判断给定的大于1的正整数是不是质数的函数。质数是只能被1和自身整除的正整数（大于1），如果一个大于 1 的正整数 $\\small{N}$ 是质数，那就意味着在 2 到 $\\small{N-1}$ 之间都没有它的因子。\n"
   ]
  },
  {
   "cell_type": "code",
   "execution_count": 23,
   "metadata": {},
   "outputs": [
    {
     "name": "stdout",
     "output_type": "stream",
     "text": [
      "False\n"
     ]
    }
   ],
   "source": [
    "\n",
    "def is_prime(num):\n",
    "    for i in range(2, num):\n",
    "        if num % i == 0:\n",
    "            return False\n",
    "    return True\n",
    "\n",
    "print(is_prime(4))"
   ]
  },
  {
   "cell_type": "markdown",
   "metadata": {},
   "source": [
    "### 例子3：最大公约数和最小公倍数\n",
    "\n",
    "设计计算两个正整数最大公约数和最小公倍数的函数。 $\\small{x}$ 和 $\\small{y}$ 的最大公约数是能够同时整除 $\\small{x}$ 和 $\\small{y}$ 的最大整数，如果 $\\small{x}$ 和 $\\small{y}$ 互质，那么它们的最大公约数为 1； $\\small{x}$ 和 $\\small{y}$ 的最小公倍数是能够同时被 $\\small{x}$ 和 $\\small{y}$ 整除的最小正整数，如果 $\\small{x}$ 和 $\\small{y}$ 互质，那么它们的最小公倍数为 $\\small{x \\times y}$ 。需要提醒大家注意的是，计算最大公约数和最小公倍数是两个不同的功能，应该设计成两个函数，而不是把两个功能放到同一个函数中。\n"
   ]
  },
  {
   "cell_type": "code",
   "execution_count": 25,
   "metadata": {},
   "outputs": [
    {
     "name": "stdout",
     "output_type": "stream",
     "text": [
      "36\n",
      "6\n"
     ]
    }
   ],
   "source": [
    "def lcm(x: int, y: int) -> int:\n",
    "    return x * y // gcd(x, y)   \n",
    "\n",
    "def gcd(x: int, y: int) -> int:\n",
    "    if x > y:\n",
    "        x, y = y, x\n",
    "    for factor in range(x, 0, -1):\n",
    "        if x % factor == 0 and y % factor == 0:\n",
    "            return factor\n",
    "    return 1\n",
    "\n",
    "print(lcm(12, 18))\n",
    "print(gcd(12, 18))"
   ]
  },
  {
   "cell_type": "markdown",
   "metadata": {},
   "source": [
    "### 例子4：数据统计\n",
    "\n",
    "假设样本数据保存一个列表中，设计计算样本数据描述性统计信息的函数。描述性统计信息通常包括：算术平均值、中位数、极差（最大值和最小值的差）、方差、标准差、变异系数等，计算公式如下所示。\n",
    "\n",
    "样本均值（sample mean）：\n",
    "\n",
    "$$\n",
    "\\bar{x} = \\frac{\\sum_{i=1}^{n}x_{i}}{n} = \\frac{x_{1}+x_{2}+\\cdots +x_{n}}{n}\n",
    "$$\n",
    "\n",
    "样本方差（sample variance）：\n",
    "\n",
    "$$\n",
    "s^2 = \\frac {\\sum_{i=1}^{n}(x_i - \\bar{x})^2} {n-1}\n",
    "$$\n",
    "\n",
    "样本标准差（sample standard deviation）：\n",
    "\n",
    "$$\n",
    "s = \\sqrt{\\frac{\\sum_{i=1}^{n}(x_i - \\bar{x})^2}{n-1}}\n",
    "$$\n",
    "\n",
    "变异系数（coefficient of sample variation）：\n",
    "\n",
    "$$\n",
    "CV = \\frac{s}{\\bar{x}}\n",
    "$$"
   ]
  },
  {
   "cell_type": "code",
   "execution_count": 28,
   "metadata": {},
   "outputs": [
    {
     "name": "stdout",
     "output_type": "stream",
     "text": [
      "均值: 3.0\n",
      "中位数: 3\n",
      "极差: 4\n",
      "方差: 2.5\n",
      "标准差: 1.5811388300841898\n",
      "变异系数: 0.5270462766947299\n"
     ]
    }
   ],
   "source": [
    "def mean(data: list[int]) -> float:\n",
    "    return sum(data) / len(data)\n",
    "\n",
    "def median(data: list[int]) -> float:\n",
    "    data.sort()\n",
    "    if len(data) % 2 == 0:\n",
    "        return (data[len(data) // 2 - 1] + data[len(data) // 2]) / 2\n",
    "    else:\n",
    "        return data[len(data) // 2]\n",
    "\n",
    "def ptp(data: list[int]) -> float:\n",
    "    return max(data) - min(data)\n",
    "\n",
    "def var(data: list[int]) -> float:\n",
    "    mean_data = mean(data)\n",
    "    return sum((x - mean_data) ** 2 for x in data) / (len(data) - 1)\n",
    "\n",
    "def std(data: list[int]) -> float:\n",
    "    return var(data) ** 0.5\n",
    "\n",
    "def cv(data: list[int]) -> float:\n",
    "    return std(data) / mean(data)\n",
    "\n",
    "\n",
    "def describe(data):\n",
    "    \"\"\"输出描述性统计信息\"\"\"\n",
    "    print(f'均值: {mean(data)}')\n",
    "    print(f'中位数: {median(data)}')\n",
    "    print(f'极差: {ptp(data)}')\n",
    "    print(f'方差: {var(data)}')\n",
    "    print(f'标准差: {std(data)}')\n",
    "    print(f'变异系数: {cv(data)}')\n",
    "\n",
    "\n",
    "describe([1, 2, 3, 4, 5])"
   ]
  },
  {
   "cell_type": "markdown",
   "metadata": {},
   "source": [
    "## 函数使用进阶\n",
    "### 高阶函数\n",
    "\n",
    "我们回到之前讲过的一个例子，设计一个函数，传入任意多个参数，对其中`int`类型或`float`类型的元素实现求和操作。我们对之前的代码稍作调整，让整个代码更加紧凑一些，如下所示。\n"
   ]
  },
  {
   "cell_type": "code",
   "execution_count": 30,
   "metadata": {},
   "outputs": [
    {
     "name": "stdout",
     "output_type": "stream",
     "text": [
      "15\n",
      "11.0\n"
     ]
    }
   ],
   "source": [
    "def add(*args):\n",
    "    total = 0\n",
    "    for val in args:\n",
    "        if isinstance(val, int) or isinstance(val, float):\n",
    "            total += val\n",
    "    return total\n",
    "\n",
    "print(add(1, 2, 3, 4, 5))\n",
    "print(add(1, 2, 3, \"4\", 5.0))"
   ]
  },
  {
   "cell_type": "code",
   "execution_count": 32,
   "metadata": {},
   "outputs": [
    {
     "name": "stdout",
     "output_type": "stream",
     "text": [
      "13\n",
      "15.0\n"
     ]
    }
   ],
   "source": [
    "def add(x, y):\n",
    "    return x + y\n",
    "\n",
    "def mul(x, y):\n",
    "    return x * y\n",
    "\n",
    "\n",
    "def calc(init_value, func, *args):\n",
    "    result = init_value\n",
    "    for val in args:\n",
    "        if isinstance(val, int) or isinstance(val, float):\n",
    "            result = func(result, val)\n",
    "    return result\n",
    "\n",
    "print(calc(1, add, 3, 4, 5))\n",
    "print(calc(1, mul, 3, \"4\", 5.0))"
   ]
  },
  {
   "cell_type": "markdown",
   "metadata": {},
   "source": [
    "### Lambda函数"
   ]
  },
  {
   "cell_type": "code",
   "execution_count": 33,
   "metadata": {},
   "outputs": [
    {
     "name": "stdout",
     "output_type": "stream",
     "text": [
      "[144, 64, 3600, 2704]\n"
     ]
    }
   ],
   "source": [
    "old_nums = [35, 12, 8, 99, 60, 52]\n",
    "new_nums = list(map(lambda x: x ** 2, filter(lambda x: x % 2 == 0, old_nums)))\n",
    "print(new_nums)  # [144, 64, 3600, 2704]"
   ]
  },
  {
   "cell_type": "markdown",
   "metadata": {},
   "source": [
    "### 偏函数\n",
    "\n",
    "偏函数是指固定函数的某些参数，生成一个新的函数，这样就无需在每次调用函数时都传递相同的参数。在 Python 语言中，我们可以使用`functools`模块的`partial`函数来创建偏函数。例如，`int`函数在默认情况下可以将字符串视为十进制整数进行类型转换，如果我们修改它的`base`参数，就可以定义出三个新函数，分别用于将二进制、八进制、十六进制字符串转换为整数，代码如下所示。\n"
   ]
  },
  {
   "cell_type": "code",
   "execution_count": null,
   "metadata": {},
   "outputs": [],
   "source": [
    "import functools\n",
    "\n",
    "int2 = functools.partial(int, base=2)\n",
    "int8 = functools.partial(int, base=8)\n",
    "int16 = functools.partial(int, base=16)\n",
    "\n",
    "print(int('1001'))    # 1001\n",
    "\n",
    "print(int2('1001'))   # 9\n",
    "print(int8('1001'))   # 513\n",
    "print(int16('1001'))  # 4097"
   ]
  }
 ],
 "metadata": {
  "kernelspec": {
   "display_name": "Python-100-Days",
   "language": "python",
   "name": "python3"
  },
  "language_info": {
   "codemirror_mode": {
    "name": "ipython",
    "version": 3
   },
   "file_extension": ".py",
   "mimetype": "text/x-python",
   "name": "python",
   "nbconvert_exporter": "python",
   "pygments_lexer": "ipython3",
   "version": "3.11.10"
  }
 },
 "nbformat": 4,
 "nbformat_minor": 2
}
